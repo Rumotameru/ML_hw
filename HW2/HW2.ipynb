{
 "cells": [
  {
   "cell_type": "code",
   "execution_count": 1,
   "metadata": {},
   "outputs": [],
   "source": [
    "import pandas as pd\n",
    "import numpy as np\n",
    "from sklearn.preprocessing import LabelEncoder\n",
    "from sklearn.preprocessing import normalize\n",
    "from sklearn.impute import SimpleImputer\n",
    "from sklearn.model_selection import cross_val_score as CV"
   ]
  },
  {
   "cell_type": "code",
   "execution_count": 2,
   "metadata": {},
   "outputs": [],
   "source": [
    "import warnings\n",
    "warnings.filterwarnings(\"ignore\")"
   ]
  },
  {
   "cell_type": "markdown",
   "metadata": {},
   "source": [
    "## Preprocessing"
   ]
  },
  {
   "cell_type": "code",
   "execution_count": 3,
   "metadata": {},
   "outputs": [],
   "source": [
    "train = pd.read_csv('train.csv', sep=',')\n",
    "test = pd.read_csv('test.csv', sep=',')\n",
    "le = LabelEncoder()"
   ]
  },
  {
   "cell_type": "code",
   "execution_count": 4,
   "metadata": {},
   "outputs": [],
   "source": [
    "train.index = list(train['id'])\n",
    "train.index.name = 'ID'\n",
    "del train['id']\n",
    "\n",
    "test.index = list(test['id'])\n",
    "test.index.name = 'ID'\n",
    "del test['id']"
   ]
  },
  {
   "cell_type": "code",
   "execution_count": 5,
   "metadata": {},
   "outputs": [],
   "source": [
    "le.fit(test.gender)\n",
    "test['gender'] = le.transform(test.gender)"
   ]
  },
  {
   "cell_type": "code",
   "execution_count": 6,
   "metadata": {
    "scrolled": true
   },
   "outputs": [],
   "source": [
    "le.fit(train.gender)\n",
    "train['gender'] = le.transform(train.gender)"
   ]
  },
  {
   "cell_type": "code",
   "execution_count": 7,
   "metadata": {},
   "outputs": [],
   "source": [
    "le.fit(test.smoking_status.fillna('never smoked'))\n",
    "test['smoking_status'] = le.transform(test.smoking_status.fillna('never smoked'))"
   ]
  },
  {
   "cell_type": "code",
   "execution_count": 8,
   "metadata": {},
   "outputs": [],
   "source": [
    "le.fit(train.smoking_status.fillna('never smoked'))\n",
    "train['smoking_status'] = le.transform(train.smoking_status.fillna('never smoked'))"
   ]
  },
  {
   "cell_type": "markdown",
   "metadata": {},
   "source": [
    "###### \"ever_married\",  \"work_type\" and\t\"Residence_type\" are more inderect features for stroke prediction. So it's better to use features, that have more unambiguous influence on health."
   ]
  },
  {
   "cell_type": "code",
   "execution_count": 9,
   "metadata": {},
   "outputs": [],
   "source": [
    "features = [\"gender\", \"age\", \"hypertension\", \"heart_disease\", \"avg_glucose_level\", \"bmi\", \"smoking_status\"]"
   ]
  },
  {
   "cell_type": "code",
   "execution_count": 10,
   "metadata": {},
   "outputs": [
    {
     "data": {
      "text/plain": [
       "29471"
      ]
     },
     "execution_count": 10,
     "metadata": {},
     "output_type": "execute_result"
    }
   ],
   "source": [
    "list(train.stroke).count(0)"
   ]
  },
  {
   "cell_type": "code",
   "execution_count": 11,
   "metadata": {},
   "outputs": [
    {
     "data": {
      "text/plain": [
       "530"
      ]
     },
     "execution_count": 11,
     "metadata": {},
     "output_type": "execute_result"
    }
   ],
   "source": [
    "list(train.stroke).count(1)"
   ]
  },
  {
   "cell_type": "markdown",
   "metadata": {},
   "source": [
    "too less strokes"
   ]
  },
  {
   "cell_type": "code",
   "execution_count": 12,
   "metadata": {},
   "outputs": [],
   "source": [
    "train = train.sort_values('stroke', ascending = False).head(1000)"
   ]
  },
  {
   "cell_type": "code",
   "execution_count": 13,
   "metadata": {},
   "outputs": [],
   "source": [
    "Test = test[features]\n",
    "Train = train[features]\n",
    "y = train['stroke']"
   ]
  },
  {
   "cell_type": "code",
   "execution_count": 14,
   "metadata": {},
   "outputs": [],
   "source": [
    "norm = normalize(SimpleImputer().fit_transform(Train))\n",
    "T_rain = pd.DataFrame(norm)\n",
    "T_rain.columns = Test.columns\n",
    "T_rain.index = Train.index"
   ]
  },
  {
   "cell_type": "code",
   "execution_count": 15,
   "metadata": {},
   "outputs": [],
   "source": [
    "norm = normalize(SimpleImputer().fit_transform(Test))\n",
    "T_est = pd.DataFrame(norm)\n",
    "T_est.columns = Test.columns\n",
    "T_est.index = Test.index"
   ]
  },
  {
   "cell_type": "markdown",
   "metadata": {},
   "source": [
    "  "
   ]
  },
  {
   "cell_type": "markdown",
   "metadata": {},
   "source": [
    "     "
   ]
  },
  {
   "cell_type": "markdown",
   "metadata": {},
   "source": [
    "   "
   ]
  },
  {
   "cell_type": "markdown",
   "metadata": {},
   "source": [
    "        "
   ]
  },
  {
   "cell_type": "markdown",
   "metadata": {},
   "source": [
    "## LogReg"
   ]
  },
  {
   "cell_type": "code",
   "execution_count": 16,
   "metadata": {},
   "outputs": [],
   "source": [
    "from sklearn.linear_model import LogisticRegression"
   ]
  },
  {
   "cell_type": "markdown",
   "metadata": {},
   "source": [
    "#### solver test"
   ]
  },
  {
   "cell_type": "code",
   "execution_count": 17,
   "metadata": {},
   "outputs": [],
   "source": [
    "def solver_test(solve, X, y):\n",
    "    LogReg = LogisticRegression(solver = solve, class_weight = 'balanced')\n",
    "    return CV(LogReg, X, y, cv = 10).mean() "
   ]
  },
  {
   "cell_type": "code",
   "execution_count": 18,
   "metadata": {},
   "outputs": [
    {
     "name": "stdout",
     "output_type": "stream",
     "text": [
      "newton-cg :  0.7129999999999999\n",
      "\n",
      "sag :  0.7129999999999999\n",
      "\n",
      "lbfgs :  0.7129999999999999\n",
      "\n",
      "liblinear :  0.7140000000000001\n",
      "\n",
      "saga :  0.7129999999999999\n",
      "\n"
     ]
    }
   ],
   "source": [
    "for s in [\"newton-cg\", \"sag\", \"lbfgs\", \"liblinear\", \"saga\"]:\n",
    "    print(s,': ', solver_test(s, T_rain, y))\n",
    "    print()"
   ]
  },
  {
   "cell_type": "markdown",
   "metadata": {},
   "source": [
    "#### C test"
   ]
  },
  {
   "cell_type": "code",
   "execution_count": 19,
   "metadata": {},
   "outputs": [],
   "source": [
    "def C_test(c, X, y):\n",
    "    LogReg = LogisticRegression(C = c, solver='liblinear', class_weight = 'balanced')\n",
    "    return CV(LogReg, X, y, cv = 10).mean() "
   ]
  },
  {
   "cell_type": "code",
   "execution_count": 20,
   "metadata": {},
   "outputs": [
    {
     "name": "stdout",
     "output_type": "stream",
     "text": [
      "1.0 :  0.7140000000000001\n",
      "\n",
      "0.5 :  0.69\n",
      "\n",
      "3 :  0.731\n",
      "\n",
      "42 :  0.736\n",
      "\n",
      "1.5 :  0.7210000000000001\n",
      "\n"
     ]
    }
   ],
   "source": [
    "for c in [1.0, 0.5, 3, 42, 1.5]:\n",
    "    print(c,': ', C_test(c, T_rain, y))\n",
    "    print()"
   ]
  },
  {
   "cell_type": "markdown",
   "metadata": {},
   "source": [
    "#### random_state test (Used when solver == ‘sag’, ‘saga’ or ‘liblinear’)"
   ]
  },
  {
   "cell_type": "code",
   "execution_count": 21,
   "metadata": {},
   "outputs": [],
   "source": [
    "def random_test(state, X, y):\n",
    "    LogReg = LogisticRegression(C= 42, solver = \"liblinear\", random_state = state, class_weight = 'balanced')\n",
    "    return CV(LogReg, X, y, cv = 10).mean() "
   ]
  },
  {
   "cell_type": "code",
   "execution_count": 22,
   "metadata": {},
   "outputs": [
    {
     "name": "stdout",
     "output_type": "stream",
     "text": [
      "7 :  0.736\n",
      "\n",
      "69 :  0.736\n",
      "\n",
      "3 :  0.736\n",
      "\n",
      "42 :  0.736\n",
      "\n",
      "28 :  0.736\n",
      "\n"
     ]
    }
   ],
   "source": [
    "for r in [7, 69, 3, 42, 28]:\n",
    "    print(r,': ', random_test(r, T_rain, y))\n",
    "    print()"
   ]
  },
  {
   "cell_type": "code",
   "execution_count": 23,
   "metadata": {},
   "outputs": [],
   "source": [
    "LogReg = LogReg = LogisticRegression(C= 42, solver = \"liblinear\", random_state = 69, class_weight = 'balanced').fit(T_rain,y)\n",
    "result = pd.DataFrame(LogReg.predict(T_est))\n",
    "result.columns = ['stroke']\n",
    "result.index = T_est.index\n",
    "result.to_csv('LogReg.csv', sep=',', \n",
    "                  index_label = 'Id', header = True)"
   ]
  },
  {
   "cell_type": "markdown",
   "metadata": {},
   "source": [
    "##### kaggle score about 0.77534"
   ]
  },
  {
   "cell_type": "markdown",
   "metadata": {},
   "source": [
    " \n",
    " "
   ]
  },
  {
   "cell_type": "markdown",
   "metadata": {},
   "source": [
    "   "
   ]
  },
  {
   "cell_type": "markdown",
   "metadata": {},
   "source": [
    "   "
   ]
  },
  {
   "cell_type": "markdown",
   "metadata": {},
   "source": [
    "## Decision tree"
   ]
  },
  {
   "cell_type": "code",
   "execution_count": 24,
   "metadata": {},
   "outputs": [],
   "source": [
    "from sklearn.tree import DecisionTreeClassifier"
   ]
  },
  {
   "cell_type": "markdown",
   "metadata": {},
   "source": [
    "#### max_depth test"
   ]
  },
  {
   "cell_type": "code",
   "execution_count": 25,
   "metadata": {},
   "outputs": [],
   "source": [
    "def depth_test(depth, X, y):\n",
    "    tree = DecisionTreeClassifier(max_depth = depth, class_weight = 'balanced')\n",
    "    return CV(tree, X, y, cv = 10).mean() "
   ]
  },
  {
   "cell_type": "code",
   "execution_count": 26,
   "metadata": {},
   "outputs": [
    {
     "name": "stdout",
     "output_type": "stream",
     "text": [
      "20 :  0.68\n",
      "\n",
      "50 :  0.683\n",
      "\n",
      "100 :  0.686\n",
      "\n",
      "200 :  0.6849999999999999\n",
      "\n",
      "500 :  0.683\n",
      "\n",
      "800 :  0.6859999999999999\n",
      "\n",
      "1000 :  0.688\n",
      "\n"
     ]
    }
   ],
   "source": [
    "for d in [20, 50, 100, 200, 500, 800, 1000]:\n",
    "    print(d,': ', depth_test(d, T_rain, y))\n",
    "    print()"
   ]
  },
  {
   "cell_type": "markdown",
   "metadata": {},
   "source": [
    "#### min_samples_split test"
   ]
  },
  {
   "cell_type": "code",
   "execution_count": 27,
   "metadata": {},
   "outputs": [],
   "source": [
    "def samples_test(min_split, X, y):\n",
    "    tree = DecisionTreeClassifier(max_depth = 100, min_samples_split=min_split, class_weight = 'balanced')\n",
    "    return CV(tree, X, y, cv = 10).mean() "
   ]
  },
  {
   "cell_type": "code",
   "execution_count": 28,
   "metadata": {},
   "outputs": [
    {
     "name": "stdout",
     "output_type": "stream",
     "text": [
      "5 :  0.683\n",
      "\n",
      "10 :  0.6799999999999999\n",
      "\n",
      "25 :  0.692\n",
      "\n",
      "50 :  0.7060000000000001\n",
      "\n",
      "80 :  0.7209999999999999\n",
      "\n"
     ]
    }
   ],
   "source": [
    "for ms in [5, 10, 25, 50, 80]:\n",
    "    print(ms,': ', samples_test(ms, T_rain, y))\n",
    "    print()"
   ]
  },
  {
   "cell_type": "markdown",
   "metadata": {},
   "source": [
    "#### max_leaf_nodes"
   ]
  },
  {
   "cell_type": "code",
   "execution_count": 29,
   "metadata": {},
   "outputs": [],
   "source": [
    "def nodes_test(node, X, y):\n",
    "    tree = DecisionTreeClassifier(max_depth = 100, min_samples_split=80, max_leaf_nodes = node, class_weight = 'balanced')\n",
    "    return CV(tree, X, y, cv = 10).mean() "
   ]
  },
  {
   "cell_type": "code",
   "execution_count": 30,
   "metadata": {},
   "outputs": [
    {
     "name": "stdout",
     "output_type": "stream",
     "text": [
      "20 :  0.7230000000000001\n",
      "\n",
      "50 :  0.7209999999999999\n",
      "\n",
      "100 :  0.7209999999999999\n",
      "\n",
      "200 :  0.7209999999999999\n",
      "\n",
      "500 :  0.7209999999999999\n",
      "\n",
      "800 :  0.7209999999999999\n",
      "\n",
      "1000 :  0.7209999999999999\n",
      "\n"
     ]
    }
   ],
   "source": [
    "for n in [20, 50, 100, 200, 500, 800, 1000]:\n",
    "    print(n,': ', nodes_test(n, T_rain, y))\n",
    "    print()"
   ]
  },
  {
   "cell_type": "markdown",
   "metadata": {},
   "source": [
    " "
   ]
  },
  {
   "cell_type": "code",
   "execution_count": 31,
   "metadata": {},
   "outputs": [],
   "source": [
    "tree = DecisionTreeClassifier(max_depth = 100, min_samples_split=100, max_leaf_nodes = 20, class_weight = 'balanced').fit(T_rain,y)"
   ]
  },
  {
   "cell_type": "code",
   "execution_count": 32,
   "metadata": {},
   "outputs": [],
   "source": [
    "result = pd.DataFrame(tree.predict(T_est))\n",
    "result.columns = ['stroke']\n",
    "result.index = T_est.index\n",
    "result.to_csv('tree.csv', sep=',', \n",
    "                  index_label = 'Id', header = True)"
   ]
  },
  {
   "cell_type": "code",
   "execution_count": 33,
   "metadata": {},
   "outputs": [
    {
     "data": {
      "text/plain": [
       "4210"
      ]
     },
     "execution_count": 33,
     "metadata": {},
     "output_type": "execute_result"
    }
   ],
   "source": [
    "list(result['stroke']).count(1)"
   ]
  },
  {
   "cell_type": "markdown",
   "metadata": {},
   "source": [
    "##### kaggle score 0.76418"
   ]
  },
  {
   "cell_type": "markdown",
   "metadata": {},
   "source": [
    "  "
   ]
  },
  {
   "cell_type": "markdown",
   "metadata": {},
   "source": [
    "  "
   ]
  },
  {
   "cell_type": "markdown",
   "metadata": {},
   "source": [
    "   "
   ]
  },
  {
   "cell_type": "markdown",
   "metadata": {},
   "source": [
    "## Random forest"
   ]
  },
  {
   "cell_type": "code",
   "execution_count": 34,
   "metadata": {},
   "outputs": [],
   "source": [
    "from sklearn.ensemble import RandomForestClassifier as RF"
   ]
  },
  {
   "cell_type": "markdown",
   "metadata": {},
   "source": [
    "#### n_estimators test"
   ]
  },
  {
   "cell_type": "code",
   "execution_count": 35,
   "metadata": {},
   "outputs": [],
   "source": [
    "def estimate_test(est, X, y):\n",
    "    tree = RF(n_estimators =est, class_weight = \"balanced\")\n",
    "    return CV(tree, X, y, cv = 10).mean() "
   ]
  },
  {
   "cell_type": "code",
   "execution_count": 36,
   "metadata": {},
   "outputs": [
    {
     "name": "stdout",
     "output_type": "stream",
     "text": [
      "20 :  0.734\n",
      "\n",
      "50 :  0.757\n",
      "\n",
      "100 :  0.747\n",
      "\n",
      "200 :  0.746\n",
      "\n",
      "500 :  0.746\n",
      "\n",
      "800 :  0.743\n",
      "\n",
      "1000 :  0.7500000000000001\n",
      "\n"
     ]
    }
   ],
   "source": [
    "for e in [20, 50, 100, 200, 500, 800, 1000]:\n",
    "    print(e,': ', estimate_test(e, T_rain, y))\n",
    "    print()"
   ]
  },
  {
   "cell_type": "markdown",
   "metadata": {},
   "source": [
    "#### min_weight_fraction_leaf test"
   ]
  },
  {
   "cell_type": "code",
   "execution_count": 37,
   "metadata": {},
   "outputs": [],
   "source": [
    "def fraction_test(weight, X, y):\n",
    "    tree = RF(n_estimators = 800, min_weight_fraction_leaf = weight, class_weight = \"balanced\")\n",
    "    return CV(tree, X, y, cv = 10).mean() "
   ]
  },
  {
   "cell_type": "code",
   "execution_count": 38,
   "metadata": {},
   "outputs": [
    {
     "name": "stdout",
     "output_type": "stream",
     "text": [
      "0 :  0.749\n",
      "\n",
      "0.1 :  0.7470000000000001\n",
      "\n",
      "0.2 :  0.7300000000000001\n",
      "\n",
      "0.25 :  0.719\n",
      "\n",
      "0.5 :  0.518\n",
      "\n"
     ]
    }
   ],
   "source": [
    "for w in [0, 0.1, 0.2, 0.25, 0.5]:\n",
    "    print(w,': ', fraction_test(w, T_rain, y))\n",
    "    print()"
   ]
  },
  {
   "cell_type": "markdown",
   "metadata": {},
   "source": [
    "#### min_impurity_split test"
   ]
  },
  {
   "cell_type": "code",
   "execution_count": 39,
   "metadata": {},
   "outputs": [],
   "source": [
    "def impurity_test(split, X, y):\n",
    "    tree = RF(n_estimators = 800, min_impurity_split = split, class_weight = \"balanced\")\n",
    "    return CV(tree, X, y, cv = 10).mean() "
   ]
  },
  {
   "cell_type": "code",
   "execution_count": 40,
   "metadata": {},
   "outputs": [
    {
     "name": "stdout",
     "output_type": "stream",
     "text": [
      "0 :  0.75\n",
      "\n",
      "0.1 :  0.75\n",
      "\n",
      "0.2 :  0.7529999999999999\n",
      "\n",
      "0.25 :  0.754\n",
      "\n",
      "0.5 :  0.49399999999999994\n",
      "\n"
     ]
    }
   ],
   "source": [
    "for i in [0, 0.1, 0.2, 0.25, 0.5]:\n",
    "    print(i,': ', impurity_test(i, T_rain, y))\n",
    "    print()"
   ]
  },
  {
   "cell_type": "markdown",
   "metadata": {},
   "source": [
    "  "
   ]
  },
  {
   "cell_type": "code",
   "execution_count": 41,
   "metadata": {},
   "outputs": [],
   "source": [
    "tree = RF(n_estimators = 800, min_impurity_split = 0.25, class_weight = \"balanced\").fit(T_rain,y)"
   ]
  },
  {
   "cell_type": "code",
   "execution_count": 42,
   "metadata": {},
   "outputs": [],
   "source": [
    "result = pd.DataFrame(tree.predict(T_est))\n",
    "result.columns = ['stroke']\n",
    "result.index = T_est.index\n",
    "result.to_csv('RF.csv', sep=',', \n",
    "                  index_label = 'Id', header = True)"
   ]
  },
  {
   "cell_type": "code",
   "execution_count": 43,
   "metadata": {},
   "outputs": [
    {
     "data": {
      "text/plain": [
       "4096"
      ]
     },
     "execution_count": 43,
     "metadata": {},
     "output_type": "execute_result"
    }
   ],
   "source": [
    "list(result['stroke']).count(1)"
   ]
  },
  {
   "cell_type": "markdown",
   "metadata": {},
   "source": [
    "##### Kaggle score 0.77820"
   ]
  },
  {
   "cell_type": "markdown",
   "metadata": {},
   "source": [
    "# Люблю леса"
   ]
  },
  {
   "cell_type": "code",
   "execution_count": null,
   "metadata": {},
   "outputs": [],
   "source": []
  }
 ],
 "metadata": {
  "kernelspec": {
   "display_name": "Python 3",
   "language": "python",
   "name": "python3"
  },
  "language_info": {
   "codemirror_mode": {
    "name": "ipython",
    "version": 3
   },
   "file_extension": ".py",
   "mimetype": "text/x-python",
   "name": "python",
   "nbconvert_exporter": "python",
   "pygments_lexer": "ipython3",
   "version": "3.7.4"
  }
 },
 "nbformat": 4,
 "nbformat_minor": 2
}
